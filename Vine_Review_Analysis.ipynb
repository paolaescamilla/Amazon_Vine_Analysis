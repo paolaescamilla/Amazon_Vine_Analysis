{
  "nbformat": 4,
  "nbformat_minor": 0,
  "metadata": {
    "colab": {
      "name": "Vine_Review_Analysis.ipynb",
      "provenance": []
    },
    "kernelspec": {
      "name": "python3",
      "display_name": "Python 3"
    },
    "language_info": {
      "name": "python"
    }
  },
  "cells": [
    {
      "cell_type": "code",
      "metadata": {
        "colab": {
          "base_uri": "https://localhost:8080/"
        },
        "id": "47v0M9xxeEdg",
        "outputId": "025cb712-84f2-47f6-c2fe-370795fb48c6"
      },
      "source": [
        "!pip3 install pyspark"
      ],
      "execution_count": 1,
      "outputs": [
        {
          "output_type": "stream",
          "text": [
            "Collecting pyspark\n",
            "\u001b[?25l  Downloading https://files.pythonhosted.org/packages/89/db/e18cfd78e408de957821ec5ca56de1250645b05f8523d169803d8df35a64/pyspark-3.1.2.tar.gz (212.4MB)\n",
            "\u001b[K     |████████████████████████████████| 212.4MB 69kB/s \n",
            "\u001b[?25hCollecting py4j==0.10.9\n",
            "\u001b[?25l  Downloading https://files.pythonhosted.org/packages/9e/b6/6a4fb90cd235dc8e265a6a2067f2a2c99f0d91787f06aca4bcf7c23f3f80/py4j-0.10.9-py2.py3-none-any.whl (198kB)\n",
            "\u001b[K     |████████████████████████████████| 204kB 17.3MB/s \n",
            "\u001b[?25hBuilding wheels for collected packages: pyspark\n",
            "  Building wheel for pyspark (setup.py) ... \u001b[?25l\u001b[?25hdone\n",
            "  Created wheel for pyspark: filename=pyspark-3.1.2-py2.py3-none-any.whl size=212880768 sha256=3212a1e8f5cd5f63310c0ffa911aac6a89b5f45ce8d44ac902c744c20ad94c51\n",
            "  Stored in directory: /root/.cache/pip/wheels/40/1b/2c/30f43be2627857ab80062bef1527c0128f7b4070b6b2d02139\n",
            "Successfully built pyspark\n",
            "Installing collected packages: py4j, pyspark\n",
            "Successfully installed py4j-0.10.9 pyspark-3.1.2\n"
          ],
          "name": "stdout"
        }
      ]
    },
    {
      "cell_type": "code",
      "metadata": {
        "colab": {
          "base_uri": "https://localhost:8080/"
        },
        "id": "EHc68hqFeK3G",
        "outputId": "578016fa-986d-4385-bef5-196ec72cc2f7"
      },
      "source": [
        "import os\n",
        "# Find the latest version of spark 3.0  from http://www-us.apache.org/dist/spark/ and enter as the spark version\n",
        "# For example:\n",
        "# spark_version = 'spark-3.0.2'\n",
        "spark_version = 'spark-3.1.2'\n",
        "os.environ['spark-3.1.2']=spark_version\n",
        "\n",
        "# Install Spark and Java\n",
        "!apt-get update\n",
        "!apt-get install openjdk-11-jdk-headless -qq > /dev/null\n",
        "!wget -q http://www-us.apache.org/dist/spark/$spark_version/$spark_version-bin-hadoop2.7.tgz\n",
        "!tar xf $spark_version-bin-hadoop2.7.tgz\n",
        "!pip install -q findspark\n",
        "\n",
        "\n",
        "# Set Environment Variables\n",
        "import os\n",
        "os.environ[\"JAVA_HOME\"] = \"/usr/lib/jvm/java-11-openjdk-amd64\"\n",
        "os.environ[\"SPARK_HOME\"] = f\"/content/{spark_version}-bin-hadoop2.7\"\n",
        "\n",
        "# Start a SparkSession\n",
        "import findspark\n",
        "findspark.init()"
      ],
      "execution_count": 2,
      "outputs": [
        {
          "output_type": "stream",
          "text": [
            "Get:1 http://security.ubuntu.com/ubuntu bionic-security InRelease [88.7 kB]\n",
            "Get:2 https://cloud.r-project.org/bin/linux/ubuntu bionic-cran40/ InRelease [3,626 B]\n",
            "Ign:3 https://developer.download.nvidia.com/compute/cuda/repos/ubuntu1804/x86_64  InRelease\n",
            "Hit:4 http://archive.ubuntu.com/ubuntu bionic InRelease\n",
            "Ign:5 https://developer.download.nvidia.com/compute/machine-learning/repos/ubuntu1804/x86_64  InRelease\n",
            "Get:6 https://developer.download.nvidia.com/compute/cuda/repos/ubuntu1804/x86_64  Release [697 B]\n",
            "Get:7 http://ppa.launchpad.net/c2d4u.team/c2d4u4.0+/ubuntu bionic InRelease [15.9 kB]\n",
            "Hit:8 https://developer.download.nvidia.com/compute/machine-learning/repos/ubuntu1804/x86_64  Release\n",
            "Get:9 https://developer.download.nvidia.com/compute/cuda/repos/ubuntu1804/x86_64  Release.gpg [836 B]\n",
            "Get:10 http://archive.ubuntu.com/ubuntu bionic-updates InRelease [88.7 kB]\n",
            "Get:11 https://cloud.r-project.org/bin/linux/ubuntu bionic-cran40/ Packages [61.8 kB]\n",
            "Hit:12 http://ppa.launchpad.net/cran/libgit2/ubuntu bionic InRelease\n",
            "Get:13 http://archive.ubuntu.com/ubuntu bionic-backports InRelease [74.6 kB]\n",
            "Get:14 http://security.ubuntu.com/ubuntu bionic-security/universe amd64 Packages [1,415 kB]\n",
            "Get:15 http://ppa.launchpad.net/deadsnakes/ppa/ubuntu bionic InRelease [15.9 kB]\n",
            "Get:16 http://security.ubuntu.com/ubuntu bionic-security/main amd64 Packages [2,185 kB]\n",
            "Get:17 http://security.ubuntu.com/ubuntu bionic-security/restricted amd64 Packages [450 kB]\n",
            "Get:18 http://ppa.launchpad.net/graphics-drivers/ppa/ubuntu bionic InRelease [21.3 kB]\n",
            "Ign:20 https://developer.download.nvidia.com/compute/cuda/repos/ubuntu1804/x86_64  Packages\n",
            "Get:20 https://developer.download.nvidia.com/compute/cuda/repos/ubuntu1804/x86_64  Packages [800 kB]\n",
            "Get:21 http://ppa.launchpad.net/c2d4u.team/c2d4u4.0+/ubuntu bionic/main Sources [1,771 kB]\n",
            "Get:22 http://archive.ubuntu.com/ubuntu bionic-updates/universe amd64 Packages [2,184 kB]\n",
            "Get:23 http://archive.ubuntu.com/ubuntu bionic-updates/restricted amd64 Packages [481 kB]\n",
            "Get:24 http://archive.ubuntu.com/ubuntu bionic-updates/multiverse amd64 Packages [33.5 kB]\n",
            "Get:25 http://archive.ubuntu.com/ubuntu bionic-updates/main amd64 Packages [2,619 kB]\n",
            "Get:26 http://ppa.launchpad.net/c2d4u.team/c2d4u4.0+/ubuntu bionic/main amd64 Packages [906 kB]\n",
            "Get:27 http://ppa.launchpad.net/deadsnakes/ppa/ubuntu bionic/main amd64 Packages [40.9 kB]\n",
            "Get:28 http://ppa.launchpad.net/graphics-drivers/ppa/ubuntu bionic/main amd64 Packages [41.6 kB]\n",
            "Fetched 13.3 MB in 5s (2,926 kB/s)\n",
            "Reading package lists... Done\n"
          ],
          "name": "stdout"
        }
      ]
    },
    {
      "cell_type": "code",
      "metadata": {
        "colab": {
          "base_uri": "https://localhost:8080/"
        },
        "id": "9lrm3uTieK6i",
        "outputId": "18e2962c-db1e-45d6-a42a-c0cccd1c7825"
      },
      "source": [
        "# Download the Postgres driver that will allow Spark to interact with Postgres.\n",
        "!wget https://jdbc.postgresql.org/download/postgresql-42.2.16.jar"
      ],
      "execution_count": 5,
      "outputs": [
        {
          "output_type": "stream",
          "text": [
            "--2021-06-11 00:34:13--  https://jdbc.postgresql.org/download/postgresql-42.2.16.jar\n",
            "Resolving jdbc.postgresql.org (jdbc.postgresql.org)... 72.32.157.228, 2001:4800:3e1:1::228\n",
            "Connecting to jdbc.postgresql.org (jdbc.postgresql.org)|72.32.157.228|:443... connected.\n",
            "HTTP request sent, awaiting response... 200 OK\n",
            "Length: 1002883 (979K) [application/java-archive]\n",
            "Saving to: ‘postgresql-42.2.16.jar’\n",
            "\n",
            "postgresql-42.2.16. 100%[===================>] 979.38K  --.-KB/s    in 0.09s   \n",
            "\n",
            "2021-06-11 00:34:13 (11.2 MB/s) - ‘postgresql-42.2.16.jar’ saved [1002883/1002883]\n",
            "\n"
          ],
          "name": "stdout"
        }
      ]
    },
    {
      "cell_type": "code",
      "metadata": {
        "id": "QAuyvSg-eK-R"
      },
      "source": [
        "from pyspark.sql import SparkSession\n",
        "spark = SparkSession.builder.appName(\"BigData-Challenge\").config(\"spark.driver.extraClassPath\",\"/content/postgresql-42.2.16.jar\").getOrCreate()"
      ],
      "execution_count": 6,
      "outputs": []
    },
    {
      "cell_type": "code",
      "metadata": {
        "colab": {
          "base_uri": "https://localhost:8080/"
        },
        "id": "W4SgCNUkeLDk",
        "outputId": "164e7f75-4481-48f0-a9b7-3890486c9a8e"
      },
      "source": [
        "from pyspark import SparkFiles\n",
        "\n",
        "vine_table_df = spark.read.format(\"csv\").load(\"/content/vine_table.csv\")\n",
        "\n",
        "vine_table_df.show()"
      ],
      "execution_count": 8,
      "outputs": [
        {
          "output_type": "stream",
          "text": [
            "+--------------+---+---+---+---+---+\n",
            "|           _c0|_c1|_c2|_c3|_c4|_c5|\n",
            "+--------------+---+---+---+---+---+\n",
            "| RMDCHWD0Y5OZ9|  3|  0|  1|  N|  N|\n",
            "| RZSL0BALIYUNU|  5|  0|  0|  N|  Y|\n",
            "| RIZR67JKUDBI0|  3|  0|  1|  N|  Y|\n",
            "|R27HL570VNL85F|  5|  0|  0|  N|  Y|\n",
            "|R34EBU9QDWJ1GD|  5|  0|  0|  N|  Y|\n",
            "|R1WCUI4Z1SIQEO|  5|  0|  0|  N|  N|\n",
            "| RL5LNO26GAVJ1|  2|  3|  4|  N|  Y|\n",
            "|R3GYQ5W8JHP8SB|  5|  0|  0|  N|  Y|\n",
            "|R30SHYQXGG5EYC|  5|  0|  0|  N|  Y|\n",
            "|R14YLXA56NP51I|  5|  1|  1|  N|  N|\n",
            "|R1ZH0HSH38IOTZ|  5|  0|  0|  N|  Y|\n",
            "|R3H53KLLC210XI|  4|  0|  0|  N|  Y|\n",
            "|R3OOR877NGA8JK|  3|  0|  0|  N|  Y|\n",
            "|R1BY7WKOZ3KMH0|  2|  0|  0|  N|  Y|\n",
            "| RXP1TFSWE8EG9|  5|  0|  0|  N|  Y|\n",
            "|R3J44DPP12OTLJ|  5|  0|  0|  N|  Y|\n",
            "| RFOV69SK0T676|  5|  0|  0|  N|  Y|\n",
            "|R2HUWDNW62FOL3|  1|  0|  0|  N|  Y|\n",
            "|R1KSU30XZGR452|  5|  0|  0|  N|  Y|\n",
            "|R2TZVLLTSHA07N|  5|  1|  1|  N|  Y|\n",
            "+--------------+---+---+---+---+---+\n",
            "only showing top 20 rows\n",
            "\n"
          ],
          "name": "stdout"
        }
      ]
    },
    {
      "cell_type": "code",
      "metadata": {
        "colab": {
          "base_uri": "https://localhost:8080/"
        },
        "id": "QDkqdtWIeLJD",
        "outputId": "9e093fc6-96be-4bac-b331-a441f678e28b"
      },
      "source": [
        "#Filter votes to show equal or higher than 20\n",
        "votes_df= vine_table_df.filter(vine_table_df._c3 >=20)\n",
        "votes_df.show()"
      ],
      "execution_count": 10,
      "outputs": [
        {
          "output_type": "stream",
          "text": [
            "+--------------+---+---+---+---+---+\n",
            "|           _c0|_c1|_c2|_c3|_c4|_c5|\n",
            "+--------------+---+---+---+---+---+\n",
            "|R2243Y3OD8U6KQ|  5| 47| 61|  N|  N|\n",
            "|R2TGT0CDTCAAHW|  5| 21| 23|  N|  Y|\n",
            "| RX4D22YSXEF4P|  1| 37| 38|  N|  Y|\n",
            "|R3FL2NTLFUSPTQ|  5| 33| 37|  N|  N|\n",
            "|R3QTP3YNZXAPPF|  3| 23| 24|  N|  Y|\n",
            "|R36V6V42VN5AS5|  5| 34| 37|  N|  Y|\n",
            "|R27LZWE27BJPOB|  5| 22| 23|  N|  N|\n",
            "|  RMRD6SMF2AUQ|  3|  4| 21|  N|  N|\n",
            "| RMPCXKWX3T57Y|  1|  1| 73|  N|  N|\n",
            "|R1P7GJ0IN2BRNH|  5| 37| 37|  N|  Y|\n",
            "|R2R6JPF9KOD2HJ|  5| 19| 20|  N|  Y|\n",
            "|R3JM8Z4SP9N3H2|  1|  4| 23|  N|  N|\n",
            "|R2J0ZZGFXKM8KR|  2| 21| 22|  N|  Y|\n",
            "|R238ZSG6TSUBNX|  5| 27| 27|  N|  Y|\n",
            "|R37WGVXA94D62S|  2|  4| 20|  N|  Y|\n",
            "| RC6Y8GYIQZ8YU|  3| 72| 85|  N|  Y|\n",
            "| RFL3TJED8C240|  5| 13| 24|  N|  N|\n",
            "|R3D4P7A8Q1C70F|  5| 22| 27|  N|  Y|\n",
            "|R3PRNAQVQBB9M6|  1| 21| 30|  N|  Y|\n",
            "|R2NTTIW5KBKLYG|  5| 19| 20|  N|  N|\n",
            "+--------------+---+---+---+---+---+\n",
            "only showing top 20 rows\n",
            "\n"
          ],
          "name": "stdout"
        }
      ]
    },
    {
      "cell_type": "code",
      "metadata": {
        "colab": {
          "base_uri": "https://localhost:8080/"
        },
        "id": "7jbT7zAceLPw",
        "outputId": "57638efa-7344-4717-8d7e-28c935c07777"
      },
      "source": [
        "#filter and retrieve all rows wheere the number of helpful votes divided by total votes is equal to or greater than 50%\n",
        "helpful_votes_df = votes_df.filter((votes_df._c2/votes_df._c3)>=0.5)\n",
        "helpful_votes_df.show()"
      ],
      "execution_count": 11,
      "outputs": [
        {
          "output_type": "stream",
          "text": [
            "+--------------+---+---+---+---+---+\n",
            "|           _c0|_c1|_c2|_c3|_c4|_c5|\n",
            "+--------------+---+---+---+---+---+\n",
            "|R2243Y3OD8U6KQ|  5| 47| 61|  N|  N|\n",
            "|R2TGT0CDTCAAHW|  5| 21| 23|  N|  Y|\n",
            "| RX4D22YSXEF4P|  1| 37| 38|  N|  Y|\n",
            "|R3FL2NTLFUSPTQ|  5| 33| 37|  N|  N|\n",
            "|R3QTP3YNZXAPPF|  3| 23| 24|  N|  Y|\n",
            "|R36V6V42VN5AS5|  5| 34| 37|  N|  Y|\n",
            "|R27LZWE27BJPOB|  5| 22| 23|  N|  N|\n",
            "|R1P7GJ0IN2BRNH|  5| 37| 37|  N|  Y|\n",
            "|R2R6JPF9KOD2HJ|  5| 19| 20|  N|  Y|\n",
            "|R2J0ZZGFXKM8KR|  2| 21| 22|  N|  Y|\n",
            "|R238ZSG6TSUBNX|  5| 27| 27|  N|  Y|\n",
            "| RC6Y8GYIQZ8YU|  3| 72| 85|  N|  Y|\n",
            "| RFL3TJED8C240|  5| 13| 24|  N|  N|\n",
            "|R3D4P7A8Q1C70F|  5| 22| 27|  N|  Y|\n",
            "|R3PRNAQVQBB9M6|  1| 21| 30|  N|  Y|\n",
            "|R2NTTIW5KBKLYG|  5| 19| 20|  N|  N|\n",
            "|R3JNDLZ3KACRLG|  5| 29| 33|  N|  N|\n",
            "|R1PVVYYY0Q1HZ0|  5| 21| 21|  N|  Y|\n",
            "|R1R9RU7JW0MFR2|  4| 20| 23|  Y|  N|\n",
            "|R1G9N0CW2982PA|  5| 21| 24|  N|  Y|\n",
            "+--------------+---+---+---+---+---+\n",
            "only showing top 20 rows\n",
            "\n"
          ],
          "name": "stdout"
        }
      ]
    },
    {
      "cell_type": "code",
      "metadata": {
        "colab": {
          "base_uri": "https://localhost:8080/"
        },
        "id": "eFeGzG2TeLVc",
        "outputId": "46a75a67-2da2-45e0-95a3-ab9311397d0e"
      },
      "source": [
        "#retrieve all rows where a review was written as part of the vine program paid\n",
        "paid_df = helpful_votes_df.filter(helpful_votes_df._c4 == 'Y')\n",
        "paid_df.show()"
      ],
      "execution_count": 13,
      "outputs": [
        {
          "output_type": "stream",
          "text": [
            "+--------------+---+---+---+---+---+\n",
            "|           _c0|_c1|_c2|_c3|_c4|_c5|\n",
            "+--------------+---+---+---+---+---+\n",
            "|R1R9RU7JW0MFR2|  4| 20| 23|  Y|  N|\n",
            "|R19EFYNN3W8Q07|  5| 26| 32|  Y|  N|\n",
            "|R34DJ1R8AEU0SG|  5| 29| 35|  Y|  N|\n",
            "|R25P5CXK5L9RHF|  5|146|161|  Y|  N|\n",
            "|R2E9VZB3I4LSN5|  5| 55| 59|  Y|  N|\n",
            "| RKYLHZL7EPELX|  4| 19| 25|  Y|  N|\n",
            "|R1U13EKGQD3ZE6|  5| 22| 25|  Y|  N|\n",
            "| RYW05F1MUEF01|  5| 87|102|  Y|  N|\n",
            "|R2SW4NXNO7HZJ5|  4| 28| 33|  Y|  N|\n",
            "|R2016NFLSUR97Y|  2| 26| 37|  Y|  N|\n",
            "| RFCV9QXJ3D79X|  3| 20| 22|  Y|  N|\n",
            "|R36779ZAY4ZT0Y|  3| 46| 50|  Y|  N|\n",
            "|R13PPTBWWV10Q6|  5| 19| 25|  Y|  N|\n",
            "|R2A3FFNJTDUBMV|  5| 20| 27|  Y|  N|\n",
            "|R3QQG4HUB214TM|  5|111|128|  Y|  N|\n",
            "|R3J9OSJNJB7KGM|  5| 70| 80|  Y|  N|\n",
            "| RIMYDUAAFXY2U|  5| 22| 23|  Y|  N|\n",
            "|R22CYBPLKWDK6F|  5| 47| 54|  Y|  N|\n",
            "|R1ETBDZ1LJ8CEL|  4| 28| 32|  Y|  N|\n",
            "|R28T5ISQ8AA7E5|  5| 40| 42|  Y|  N|\n",
            "+--------------+---+---+---+---+---+\n",
            "only showing top 20 rows\n",
            "\n"
          ],
          "name": "stdout"
        }
      ]
    },
    {
      "cell_type": "code",
      "metadata": {
        "colab": {
          "base_uri": "https://localhost:8080/"
        },
        "id": "S5Q1Ur2BeLcy",
        "outputId": "ecd56db1-7539-4ddf-aba4-762850fea08c"
      },
      "source": [
        "#create unpaid vine Dataframe\n",
        "unpaid_df = helpful_votes_df.filter(helpful_votes_df._c4 =='N')\n",
        "unpaid_df.show()"
      ],
      "execution_count": 14,
      "outputs": [
        {
          "output_type": "stream",
          "text": [
            "+--------------+---+---+---+---+---+\n",
            "|           _c0|_c1|_c2|_c3|_c4|_c5|\n",
            "+--------------+---+---+---+---+---+\n",
            "|R2243Y3OD8U6KQ|  5| 47| 61|  N|  N|\n",
            "|R2TGT0CDTCAAHW|  5| 21| 23|  N|  Y|\n",
            "| RX4D22YSXEF4P|  1| 37| 38|  N|  Y|\n",
            "|R3FL2NTLFUSPTQ|  5| 33| 37|  N|  N|\n",
            "|R3QTP3YNZXAPPF|  3| 23| 24|  N|  Y|\n",
            "|R36V6V42VN5AS5|  5| 34| 37|  N|  Y|\n",
            "|R27LZWE27BJPOB|  5| 22| 23|  N|  N|\n",
            "|R1P7GJ0IN2BRNH|  5| 37| 37|  N|  Y|\n",
            "|R2R6JPF9KOD2HJ|  5| 19| 20|  N|  Y|\n",
            "|R2J0ZZGFXKM8KR|  2| 21| 22|  N|  Y|\n",
            "|R238ZSG6TSUBNX|  5| 27| 27|  N|  Y|\n",
            "| RC6Y8GYIQZ8YU|  3| 72| 85|  N|  Y|\n",
            "| RFL3TJED8C240|  5| 13| 24|  N|  N|\n",
            "|R3D4P7A8Q1C70F|  5| 22| 27|  N|  Y|\n",
            "|R3PRNAQVQBB9M6|  1| 21| 30|  N|  Y|\n",
            "|R2NTTIW5KBKLYG|  5| 19| 20|  N|  N|\n",
            "|R3JNDLZ3KACRLG|  5| 29| 33|  N|  N|\n",
            "|R1PVVYYY0Q1HZ0|  5| 21| 21|  N|  Y|\n",
            "|R1G9N0CW2982PA|  5| 21| 24|  N|  Y|\n",
            "|R2N8ZFHQBWHMDL|  2| 26| 28|  N|  Y|\n",
            "+--------------+---+---+---+---+---+\n",
            "only showing top 20 rows\n",
            "\n"
          ],
          "name": "stdout"
        }
      ]
    },
    {
      "cell_type": "code",
      "metadata": {
        "colab": {
          "base_uri": "https://localhost:8080/"
        },
        "id": "tqPWhkcLh8WY",
        "outputId": "77254c13-8378-4cc3-e974-0e209fa6ad52"
      },
      "source": [
        "# paid total number of reviews\n",
        "total_paid_reviews = paid_df.count()\n",
        "total_paid_reviews"
      ],
      "execution_count": 15,
      "outputs": [
        {
          "output_type": "execute_result",
          "data": {
            "text/plain": [
              "60"
            ]
          },
          "metadata": {
            "tags": []
          },
          "execution_count": 15
        }
      ]
    },
    {
      "cell_type": "code",
      "metadata": {
        "colab": {
          "base_uri": "https://localhost:8080/"
        },
        "id": "ANVsf02mh8jC",
        "outputId": "3ffa1250-2694-49ae-8f2b-e592e27fe2f7"
      },
      "source": [
        "# paid 5 star reviews\n",
        "paid_five_star_reviews = paid_df.filter(paid_df._c1 == 5).count()\n",
        "paid_five_star_reviews"
      ],
      "execution_count": 16,
      "outputs": [
        {
          "output_type": "execute_result",
          "data": {
            "text/plain": [
              "34"
            ]
          },
          "metadata": {
            "tags": []
          },
          "execution_count": 16
        }
      ]
    },
    {
      "cell_type": "code",
      "metadata": {
        "colab": {
          "base_uri": "https://localhost:8080/"
        },
        "id": "WGYpj2MLiaqF",
        "outputId": "03be97b1-a75e-400e-e0c4-0345f1f1c6dd"
      },
      "source": [
        "#paid 5 star reviews percentage\n",
        "paid_five_star_percent = (paid_five_star_reviews/total_paid_reviews)*100\n",
        "paid_five_star_percent"
      ],
      "execution_count": 18,
      "outputs": [
        {
          "output_type": "execute_result",
          "data": {
            "text/plain": [
              "56.666666666666664"
            ]
          },
          "metadata": {
            "tags": []
          },
          "execution_count": 18
        }
      ]
    },
    {
      "cell_type": "code",
      "metadata": {
        "colab": {
          "base_uri": "https://localhost:8080/"
        },
        "id": "YhxlTZuTh8th",
        "outputId": "cf5f3b1d-21b7-432c-da83-557fb68bc7fb"
      },
      "source": [
        "#unpaid total number of reviews\n",
        "total_unpaid_reviews = unpaid_df.count()\n",
        "total_unpaid_reviews"
      ],
      "execution_count": 20,
      "outputs": [
        {
          "output_type": "execute_result",
          "data": {
            "text/plain": [
              "14477"
            ]
          },
          "metadata": {
            "tags": []
          },
          "execution_count": 20
        }
      ]
    },
    {
      "cell_type": "code",
      "metadata": {
        "colab": {
          "base_uri": "https://localhost:8080/"
        },
        "id": "qiHWUvzTipJa",
        "outputId": "5b12976d-53ef-47ba-d35d-1d635a1373a7"
      },
      "source": [
        "# unpaid 5 star reviews\n",
        "unpaid_five_star_reviews = unpaid_df.filter(unpaid_df._c1 ==5).count()\n",
        "unpaid_five_star_reviews"
      ],
      "execution_count": 19,
      "outputs": [
        {
          "output_type": "execute_result",
          "data": {
            "text/plain": [
              "8212"
            ]
          },
          "metadata": {
            "tags": []
          },
          "execution_count": 19
        }
      ]
    },
    {
      "cell_type": "code",
      "metadata": {
        "colab": {
          "base_uri": "https://localhost:8080/"
        },
        "id": "-1fXxIR1i0ji",
        "outputId": "0375acbc-379a-443f-a42a-aaa422dd0343"
      },
      "source": [
        "#unpaid 5 star reviews percentage\n",
        "unpaid_five_star_percent = (unpaid_five_star_reviews / total_unpaid_reviews) * 100\n",
        "unpaid_five_star_percent"
      ],
      "execution_count": 22,
      "outputs": [
        {
          "output_type": "execute_result",
          "data": {
            "text/plain": [
              "56.72445948746287"
            ]
          },
          "metadata": {
            "tags": []
          },
          "execution_count": 22
        }
      ]
    }
  ]
}